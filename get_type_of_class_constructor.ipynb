{
 "cells": [
  {
   "cell_type": "code",
   "execution_count": 3,
   "metadata": {},
   "outputs": [],
   "source": [
    "class MyClass:\n",
    "    def __init__(self):\n",
    "        self.x = 1\n"
   ]
  },
  {
   "cell_type": "code",
   "execution_count": 8,
   "metadata": {},
   "outputs": [
    {
     "ename": "SyntaxError",
     "evalue": "invalid syntax. Perhaps you forgot a comma? (4163278443.py, line 2)",
     "output_type": "error",
     "traceback": [
      "\u001b[0;36m  Cell \u001b[0;32mIn[8], line 2\u001b[0;36m\u001b[0m\n\u001b[0;31m    sig = signature(new MyClass)\u001b[0m\n\u001b[0m                    ^\u001b[0m\n\u001b[0;31mSyntaxError\u001b[0m\u001b[0;31m:\u001b[0m invalid syntax. Perhaps you forgot a comma?\n"
     ]
    }
   ],
   "source": [
    "from inspect import signature, Parameter\n",
    "sig = signature(MyClass)\n",
    "str(sig)"
   ]
  },
  {
   "cell_type": "code",
   "execution_count": 5,
   "metadata": {},
   "outputs": [
    {
     "data": {
      "text/plain": [
       "<Signature ()>"
      ]
     },
     "execution_count": 5,
     "metadata": {},
     "output_type": "execute_result"
    }
   ],
   "source": [
    "sig"
   ]
  },
  {
   "cell_type": "code",
   "execution_count": 6,
   "metadata": {},
   "outputs": [
    {
     "name": "stdout",
     "output_type": "stream",
     "text": [
      "aaaaa\n"
     ]
    }
   ],
   "source": [
    "print('aaaaa')"
   ]
  },
  {
   "cell_type": "code",
   "execution_count": 9,
   "metadata": {},
   "outputs": [
    {
     "name": "stdout",
     "output_type": "stream",
     "text": [
      "init\n",
      "init\n",
      "2\n"
     ]
    }
   ],
   "source": [
    "class MySigleton:\n",
    "    __instance = None\n",
    "    def __new__(cls, *args, **kwargs):\n",
    "        if not cls.__instance:\n",
    "            cls.__instance = super().__new__(cls)\n",
    "        return cls.__instance\n",
    "    \n",
    "    def __init__(self, *args, **kwargs):\n",
    "        print('init')\n",
    "        self.x = 1\n",
    "\n",
    "a = MySigleton()\n",
    "b = MySigleton()\n",
    "a.x = 2\n",
    "print(b.x)\n"
   ]
  },
  {
   "cell_type": "code",
   "execution_count": 16,
   "metadata": {},
   "outputs": [
    {
     "data": {
      "text/plain": [
       "[('_MySigleton__instance', <__main__.MySigleton at 0x7ffa4c34aaa0>),\n",
       " ('__class__', type),\n",
       " ('__delattr__', <slot wrapper '__delattr__' of 'object' objects>),\n",
       " ('__dict__',\n",
       "  mappingproxy({'__module__': '__main__',\n",
       "                '_MySigleton__instance': <__main__.MySigleton at 0x7ffa4c34aaa0>,\n",
       "                '__new__': <staticmethod(<function MySigleton.__new__ at 0x7ffa4c3a44c0>)>,\n",
       "                '__init__': <function __main__.MySigleton.__init__(self, *args, **kwargs)>,\n",
       "                '__dict__': <attribute '__dict__' of 'MySigleton' objects>,\n",
       "                '__weakref__': <attribute '__weakref__' of 'MySigleton' objects>,\n",
       "                '__doc__': None})),\n",
       " ('__dir__', <method '__dir__' of 'object' objects>),\n",
       " ('__doc__', None),\n",
       " ('__eq__', <slot wrapper '__eq__' of 'object' objects>),\n",
       " ('__format__', <method '__format__' of 'object' objects>),\n",
       " ('__ge__', <slot wrapper '__ge__' of 'object' objects>),\n",
       " ('__getattribute__', <slot wrapper '__getattribute__' of 'object' objects>),\n",
       " ('__gt__', <slot wrapper '__gt__' of 'object' objects>),\n",
       " ('__hash__', <slot wrapper '__hash__' of 'object' objects>),\n",
       " ('__init__', <function __main__.MySigleton.__init__(self, *args, **kwargs)>),\n",
       " ('__init_subclass__', <function MySigleton.__init_subclass__>),\n",
       " ('__le__', <slot wrapper '__le__' of 'object' objects>),\n",
       " ('__lt__', <slot wrapper '__lt__' of 'object' objects>),\n",
       " ('__module__', '__main__'),\n",
       " ('__ne__', <slot wrapper '__ne__' of 'object' objects>),\n",
       " ('__new__', <function __main__.MySigleton.__new__(cls, *args, **kwargs)>),\n",
       " ('__reduce__', <method '__reduce__' of 'object' objects>),\n",
       " ('__reduce_ex__', <method '__reduce_ex__' of 'object' objects>),\n",
       " ('__repr__', <slot wrapper '__repr__' of 'object' objects>),\n",
       " ('__setattr__', <slot wrapper '__setattr__' of 'object' objects>),\n",
       " ('__sizeof__', <method '__sizeof__' of 'object' objects>),\n",
       " ('__str__', <slot wrapper '__str__' of 'object' objects>),\n",
       " ('__subclasshook__', <function MySigleton.__subclasshook__>),\n",
       " ('__weakref__', <attribute '__weakref__' of 'MySigleton' objects>)]"
      ]
     },
     "execution_count": 16,
     "metadata": {},
     "output_type": "execute_result"
    }
   ],
   "source": [
    "\n",
    "getmembers(MySigleton)"
   ]
  },
  {
   "cell_type": "code",
   "execution_count": 17,
   "metadata": {},
   "outputs": [
    {
     "ename": "NameError",
     "evalue": "name 'getmembers_static' is not defined",
     "output_type": "error",
     "traceback": [
      "\u001b[0;31m---------------------------------------------------------------------------\u001b[0m",
      "\u001b[0;31mNameError\u001b[0m                                 Traceback (most recent call last)",
      "Cell \u001b[0;32mIn[17], line 1\u001b[0m\n\u001b[0;32m----> 1\u001b[0m getmembers_static(a)\n",
      "\u001b[0;31mNameError\u001b[0m: name 'getmembers_static' is not defined"
     ]
    }
   ],
   "source": [
    "getmembers_static(a)"
   ]
  },
  {
   "cell_type": "code",
   "execution_count": 25,
   "metadata": {},
   "outputs": [],
   "source": [
    "class MyClass:\n",
    "    def __init__(self, param1: int, param2: str):\n",
    "        self.param1 = param1\n",
    "        self.param2 = param2\n"
   ]
  },
  {
   "cell_type": "code",
   "execution_count": 26,
   "metadata": {},
   "outputs": [],
   "source": [
    "import inspect\n",
    "constructor_signature = inspect.signature(MyClass.__init__)"
   ]
  },
  {
   "cell_type": "code",
   "execution_count": 27,
   "metadata": {},
   "outputs": [],
   "source": [
    "parameters = constructor_signature.parameters"
   ]
  },
  {
   "cell_type": "code",
   "execution_count": 28,
   "metadata": {},
   "outputs": [
    {
     "name": "stdout",
     "output_type": "stream",
     "text": [
      "self\n",
      "param1\n",
      "param2\n"
     ]
    }
   ],
   "source": [
    "for param_name, param_obj in parameters.items():\n",
    "    print(param_name)"
   ]
  },
  {
   "cell_type": "code",
   "execution_count": 24,
   "metadata": {},
   "outputs": [
    {
     "name": "stdout",
     "output_type": "stream",
     "text": [
      "Parameter 'self' type: <class 'inspect._empty'>\n",
      "Parameter 'param1' type: <class 'inspect._empty'>\n",
      "Parameter 'param2' type: <class 'inspect._empty'>\n"
     ]
    }
   ],
   "source": [
    "for param_name, param_obj in parameters.items():\n",
    "    param_type = param_obj.annotation\n",
    "    print(f\"Parameter '{param_name}' type: {param_type}\")"
   ]
  },
  {
   "cell_type": "code",
   "execution_count": 30,
   "metadata": {},
   "outputs": [
    {
     "name": "stdout",
     "output_type": "stream",
     "text": [
      "Parameter 'self' type: typing.Any\n",
      "Parameter 'param1' type: <class 'int'>\n",
      "Parameter 'param2' type: <class 'str'>\n"
     ]
    }
   ],
   "source": [
    "import typing\n",
    "for param_name, param_obj in parameters.items():\n",
    "    param_type = param_obj.annotation if param_obj.annotation != inspect.Parameter.empty else typing.Any\n",
    "    print(f\"Parameter '{param_name}' type: {param_type}\")"
   ]
  },
  {
   "cell_type": "code",
   "execution_count": null,
   "metadata": {},
   "outputs": [],
   "source": []
  }
 ],
 "metadata": {
  "kernelspec": {
   "display_name": "base",
   "language": "python",
   "name": "python3"
  },
  "language_info": {
   "codemirror_mode": {
    "name": "ipython",
    "version": 3
   },
   "file_extension": ".py",
   "mimetype": "text/x-python",
   "name": "python",
   "nbconvert_exporter": "python",
   "pygments_lexer": "ipython3",
   "version": "3.10.10"
  },
  "orig_nbformat": 4
 },
 "nbformat": 4,
 "nbformat_minor": 2
}
